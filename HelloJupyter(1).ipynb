{
 "cells": [
  {
   "cell_type": "code",
   "execution_count": 1,
   "id": "1136704d",
   "metadata": {},
   "outputs": [
    {
     "name": "stdout",
     "output_type": "stream",
     "text": [
      "Hello, Jupyter!!\n"
     ]
    }
   ],
   "source": [
    "print('Hello, Jupyter!!')"
   ]
  },
  {
   "cell_type": "code",
   "execution_count": 2,
   "id": "c2c64c9e",
   "metadata": {},
   "outputs": [
    {
     "ename": "SyntaxError",
     "evalue": "unexpected EOF while parsing (571849305.py, line 1)",
     "output_type": "error",
     "traceback": [
      "\u001b[0;36m  File \u001b[0;32m\"/tmp/ipykernel_131743/571849305.py\"\u001b[0;36m, line \u001b[0;32m1\u001b[0m\n\u001b[0;31m    print('Hello, Jupyter!!'\u001b[0m\n\u001b[0m                            ^\u001b[0m\n\u001b[0;31mSyntaxError\u001b[0m\u001b[0;31m:\u001b[0m unexpected EOF while parsing\n"
     ]
    }
   ],
   "source": [
    "print('Hello, Jupyter!!'"
   ]
  },
  {
   "cell_type": "code",
   "execution_count": 16,
   "id": "5b6da6bd",
   "metadata": {
    "scrolled": true
   },
   "outputs": [
    {
     "name": "stdout",
     "output_type": "stream",
     "text": [
      "0\n",
      "1\n",
      "2\n",
      "3\n",
      "4\n",
      "5\n",
      "6\n",
      "7\n",
      "8\n",
      "9\n"
     ]
    }
   ],
   "source": [
    "import time\n",
    "for i in range(10):\n",
    "    print(i)\n",
    "    time.sleep(1)"
   ]
  },
  {
   "cell_type": "code",
   "execution_count": 13,
   "id": "b3f1c46a",
   "metadata": {
    "tags": [
     "printname"
    ]
   },
   "outputs": [
    {
     "name": "stdout",
     "output_type": "stream",
     "text": [
      "Hello Jupyter !!\n"
     ]
    }
   ],
   "source": [
    "your_name = 'Jupyter'\n",
    "def hello(name):\n",
    "    print('Hello {0} !!'.format(name))\n",
    "    \n",
    "hello(your_name)"
   ]
  },
  {
   "cell_type": "code",
   "execution_count": null,
   "id": "0e025260",
   "metadata": {},
   "outputs": [],
   "source": [
    "your_name = 'Eisuke'\n",
    "def hello(name):\n",
    "    print('Hello {0} !!'.format(name))\n",
    "    "
   ]
  },
  {
   "cell_type": "code",
   "execution_count": 4,
   "id": "b05a3b01",
   "metadata": {},
   "outputs": [
    {
     "name": "stdout",
     "output_type": "stream",
     "text": [
      "Hello Eisuke !!\n"
     ]
    }
   ],
   "source": [
    "hello(your_name)"
   ]
  },
  {
   "cell_type": "code",
   "execution_count": 5,
   "id": "1ea6c915",
   "metadata": {},
   "outputs": [
    {
     "name": "stdout",
     "output_type": "stream",
     "text": [
      "Eisuke\n"
     ]
    }
   ],
   "source": [
    "print(your_name)"
   ]
  },
  {
   "cell_type": "code",
   "execution_count": 6,
   "id": "66fb3eae",
   "metadata": {},
   "outputs": [
    {
     "name": "stdout",
     "output_type": "stream",
     "text": [
      "Hello Eisuke !!\n"
     ]
    }
   ],
   "source": [
    "hello(your_name)"
   ]
  },
  {
   "cell_type": "code",
   "execution_count": 7,
   "id": "e88f00e7",
   "metadata": {},
   "outputs": [
    {
     "data": {
      "text/plain": [
       "1.7320508075688772"
      ]
     },
     "execution_count": 7,
     "metadata": {},
     "output_type": "execute_result"
    }
   ],
   "source": [
    "import math\n",
    "math.sqrt(3)"
   ]
  },
  {
   "cell_type": "code",
   "execution_count": 8,
   "id": "d41078fb",
   "metadata": {},
   "outputs": [],
   "source": [
    "math.sqrt?"
   ]
  },
  {
   "cell_type": "code",
   "execution_count": 10,
   "id": "416eb2d2",
   "metadata": {},
   "outputs": [],
   "source": [
    "your_name?"
   ]
  },
  {
   "cell_type": "markdown",
   "id": "009486ef",
   "metadata": {},
   "source": [
    "# これは見出しです\n",
    "\n",
    "これは段落です\n",
    "\n",
    "- 箇条書きも\n",
    "- このように表現\n",
    "\n",
    "テーブルも\n",
    "\n",
    "pack | ver\n",
    "-------- | ----------\n",
    "panda | 0.19.2\n",
    "''import''する"
   ]
  },
  {
   "cell_type": "code",
   "execution_count": 17,
   "id": "efb039ad",
   "metadata": {},
   "outputs": [],
   "source": [
    "import math"
   ]
  },
  {
   "cell_type": "markdown",
   "id": "01e38fde",
   "metadata": {},
   "source": [
    "''import''した''math''モジュールを利用"
   ]
  },
  {
   "cell_type": "code",
   "execution_count": 19,
   "id": "8e0a09fa",
   "metadata": {},
   "outputs": [
    {
     "name": "stdout",
     "output_type": "stream",
     "text": [
      "1.7320508075688772\n"
     ]
    }
   ],
   "source": [
    "print(math.sqrt(3))"
   ]
  },
  {
   "cell_type": "markdown",
   "id": "7c4abf13",
   "metadata": {},
   "source": [
    "## 数式の表示\n",
    "\n",
    "\\begin{align}\n",
    "\\sqrt{3} = 1.7320508...\n",
    "\\end{align]\n",
    "\n",
    "インラインでも$\\sqrt{3} = 1.7320508...$\n",
    "\n",
    "画像"
   ]
  },
  {
   "cell_type": "markdown",
   "id": "9c78e08c",
   "metadata": {},
   "source": [
    "## 数式の表示\n",
    "\n",
    "\n",
    "$$\\sqrt{3} = 1.7320508...$$\n",
    "\n",
    "\n",
    "インラインでも$\\sqrt{3} = 1.7320508...$"
   ]
  },
  {
   "cell_type": "code",
   "execution_count": null,
   "id": "3ad8df90",
   "metadata": {},
   "outputs": [],
   "source": []
  }
 ],
 "metadata": {
  "celltoolbar": "Attachments",
  "kernelspec": {
   "display_name": "Python 3 (ipykernel)",
   "language": "python",
   "name": "python3"
  },
  "language_info": {
   "codemirror_mode": {
    "name": "ipython",
    "version": 3
   },
   "file_extension": ".py",
   "mimetype": "text/x-python",
   "name": "python",
   "nbconvert_exporter": "python",
   "pygments_lexer": "ipython3",
   "version": "3.9.13"
  }
 },
 "nbformat": 4,
 "nbformat_minor": 5
}
